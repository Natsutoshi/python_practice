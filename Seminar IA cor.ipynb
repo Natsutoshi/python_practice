{
 "cells": [
  {
   "cell_type": "code",
   "execution_count": 94,
   "id": "01d78a7b",
   "metadata": {},
   "outputs": [],
   "source": [
    "import pandas as pd\n",
    "import numpy as np"
   ]
  },
  {
   "cell_type": "code",
   "execution_count": 95,
   "id": "8ac0bc18",
   "metadata": {},
   "outputs": [
    {
     "name": "stdout",
     "output_type": "stream",
     "text": [
      "    year    NEER    REER  Export  Import     GDP  Unnamed: 6  Unnamed: 7\n",
      "0   1980   22.19   73.84    2938    3200  255736         NaN         NaN\n",
      "1   1981   25.22   78.93    3347    3146  274300         NaN         NaN\n",
      "2   1982   24.14   71.57    3443    3266  288331         NaN         NaN\n",
      "3   1983   27.26   77.50    3491    3001  301312         NaN         NaN\n",
      "4   1984   29.53   80.90    4033    3232  319516         NaN         NaN\n",
      "5   1985   31.42   82.92    4196    3108  340475         NaN         NaN\n",
      "6   1986   41.59  106.30    3529    2155  357473         NaN         NaN\n",
      "7   1987   45.97  111.97    3332    2174  373792         NaN         NaN\n",
      "8   1988   51.84  118.71    3394    2401  401650         NaN         NaN\n",
      "9   1989   50.91  108.80    3782    2898  430045         NaN         NaN\n",
      "10  1990   49.24   97.36    4146    3386  462837         NaN         NaN\n",
      "11  1991   54.81  103.95    4236    3190  492669         NaN         NaN\n",
      "12  1992   59.42  107.04    4301    2953  505128         NaN         NaN\n",
      "13  1993   74.06  125.30    4020    2683  505368         NaN         NaN\n",
      "14  1994   84.69  133.21    4050    2810  510916         NaN         NaN\n",
      "15  1995   90.37  135.39    4153    3155  521614         NaN         NaN\n",
      "16  1996   78.81  113.70    4473    3799  535562         NaN         NaN\n",
      "17  1997   74.95  106.98    5094    4096  543545         NaN         NaN\n",
      "18  1998   76.72  107.01    5065    3665  536497         NaN         NaN\n",
      "19  1999   87.07  118.90    4755    3527  528070         NaN         NaN\n",
      "20  2000   94.67  125.51    5165    4094  535418         NaN         NaN\n",
      "21  2001   87.01  111.77    4898    4242  531654         NaN         NaN\n",
      "22  2002   83.10  104.15    5211    4223  524479         NaN         NaN\n",
      "23  2003   85.67  105.04    5455    4436  523969         NaN         NaN\n",
      "24  2004   88.86  106.07    6117    4922  529401         NaN         NaN\n",
      "25  2005   85.87   99.46    6566    5695  532516         NaN         NaN\n",
      "26  2006   79.62   90.05    7525    6734  535170         NaN         NaN\n",
      "27  2007   75.30   82.48    8393    7314  539282         NaN         NaN\n",
      "28  2008   83.85   88.62    8102    7895  527824         NaN         NaN\n",
      "29  2009   96.14   99.54    5417    5150  494938         NaN         NaN\n",
      "30  2010  100.00  100.00    6740    6076  505531         NaN         NaN\n",
      "31  2011  105.71  101.13    6555    6811  497449         NaN         NaN\n",
      "32  2012  107.26   99.89    6375    7069  500475         NaN         NaN\n",
      "33  2013   87.24   79.64    6977    8124  508701         NaN         NaN\n",
      "34  2014   81.10   74.59    7309    8591  518811         NaN         NaN\n",
      "35  2015   75.75   69.42    7561    7841  538032         NaN         NaN\n",
      "36  2016   87.60   78.92    7004    6604  544365         NaN         NaN\n",
      "37  2017   84.58   75.15    7829    7538  553073         NaN         NaN\n",
      "38  2018   84.81   74.48    8148    8270  556630         NaN         NaN\n",
      "39  2019   88.58   76.62    7693    7860  557911         NaN         NaN\n",
      "40  2020   90.70   77.31    6840    6801  539082         NaN         NaN\n",
      "41  2021   85.24   70.69    8309    8488  549379         NaN         NaN\n",
      "42  2022   75.59   60.98    9817   11814  556702         NaN         NaN\n"
     ]
    }
   ],
   "source": [
    "x=pd.read_csv(\"/Users/natsutosisumita/演習IA/IntlFinClassData1a.csv\")\n",
    "print(x)"
   ]
  },
  {
   "cell_type": "code",
   "execution_count": 96,
   "id": "57279360",
   "metadata": {},
   "outputs": [],
   "source": [
    "##グラフ描画パッケージ matplotlibのインストール\n",
    "import matplotlib as matplotlib\n",
    "import matplotlib.pyplot as plt\n"
   ]
  },
  {
   "cell_type": "code",
   "execution_count": 97,
   "id": "8d548992",
   "metadata": {},
   "outputs": [
    {
     "name": "stdout",
     "output_type": "stream",
     "text": [
      "\n",
      " 3491\n",
      "\n",
      " 3001\n"
     ]
    }
   ],
   "source": [
    "print(\"\\n\", x.iloc[3,3])\n",
    "print(\"\\n\", x.iloc[3,4])"
   ]
  },
  {
   "cell_type": "code",
   "execution_count": 98,
   "id": "4a7699ce",
   "metadata": {},
   "outputs": [],
   "source": [
    "##プロットする値の作成\n",
    "NEER=x.iloc[:,1]\n",
    "REER=x.iloc[:,2]\n",
    "GDP=x.iloc[:,5]"
   ]
  },
  {
   "cell_type": "code",
   "execution_count": 99,
   "id": "824f472a",
   "metadata": {},
   "outputs": [
    {
     "name": "stdout",
     "output_type": "stream",
     "text": [
      "0      22.19\n",
      "1      25.22\n",
      "2      24.14\n",
      "3      27.26\n",
      "4      29.53\n",
      "5      31.42\n",
      "6      41.59\n",
      "7      45.97\n",
      "8      51.84\n",
      "9      50.91\n",
      "10     49.24\n",
      "11     54.81\n",
      "12     59.42\n",
      "13     74.06\n",
      "14     84.69\n",
      "15     90.37\n",
      "16     78.81\n",
      "17     74.95\n",
      "18     76.72\n",
      "19     87.07\n",
      "20     94.67\n",
      "21     87.01\n",
      "22     83.10\n",
      "23     85.67\n",
      "24     88.86\n",
      "25     85.87\n",
      "26     79.62\n",
      "27     75.30\n",
      "28     83.85\n",
      "29     96.14\n",
      "30    100.00\n",
      "31    105.71\n",
      "32    107.26\n",
      "33     87.24\n",
      "34     81.10\n",
      "35     75.75\n",
      "36     87.60\n",
      "37     84.58\n",
      "38     84.81\n",
      "39     88.58\n",
      "40     90.70\n",
      "41     85.24\n",
      "42     75.59\n",
      "Name: NEER, dtype: float64\n"
     ]
    }
   ],
   "source": [
    "print(NEER)"
   ]
  },
  {
   "cell_type": "code",
   "execution_count": 100,
   "id": "ed8f745a",
   "metadata": {},
   "outputs": [
    {
     "name": "stdout",
     "output_type": "stream",
     "text": [
      "0     255736\n",
      "1     274300\n",
      "2     288331\n",
      "3     301312\n",
      "4     319516\n",
      "5     340475\n",
      "6     357473\n",
      "7     373792\n",
      "8     401650\n",
      "9     430045\n",
      "10    462837\n",
      "11    492669\n",
      "12    505128\n",
      "13    505368\n",
      "14    510916\n",
      "15    521614\n",
      "16    535562\n",
      "17    543545\n",
      "18    536497\n",
      "19    528070\n",
      "20    535418\n",
      "21    531654\n",
      "22    524479\n",
      "23    523969\n",
      "24    529401\n",
      "25    532516\n",
      "26    535170\n",
      "27    539282\n",
      "28    527824\n",
      "29    494938\n",
      "30    505531\n",
      "31    497449\n",
      "32    500475\n",
      "33    508701\n",
      "34    518811\n",
      "35    538032\n",
      "36    544365\n",
      "37    553073\n",
      "38    556630\n",
      "39    557911\n",
      "40    539082\n",
      "41    549379\n",
      "42    556702\n",
      "Name: GDP, dtype: int64\n"
     ]
    }
   ],
   "source": [
    "print(GDP)"
   ]
  },
  {
   "cell_type": "code",
   "execution_count": 101,
   "id": "03a8a626",
   "metadata": {},
   "outputs": [
    {
     "data": {
      "text/plain": [
       "<matplotlib.collections.PathCollection at 0x7f817b0ddc90>"
      ]
     },
     "execution_count": 101,
     "metadata": {},
     "output_type": "execute_result"
    },
    {
     "data": {
      "image/png": "[encoded data removed]",
      "text/plain": [
       "<Figure size 640x480 with 1 Axes>"
      ]
     },
     "metadata": {},
     "output_type": "display_data"
    }
   ],
   "source": [
    "plt.scatter(NEER,GDP)"
   ]
  },
  {
   "cell_type": "code",
   "execution_count": 102,
   "id": "9be9caad",
   "metadata": {},
   "outputs": [],
   "source": [
    "##経常収支\n",
    "im=x.iloc[:,4]\n",
    "ex=x.iloc[:,3]\n",
    "balance=im/ex"
   ]
  },
  {
   "cell_type": "code",
   "execution_count": 103,
   "id": "e576f6a6",
   "metadata": {},
   "outputs": [
    {
     "name": "stdout",
     "output_type": "stream",
     "text": [
      "0     1.089176\n",
      "1     0.939946\n",
      "2     0.948591\n",
      "3     0.859639\n",
      "4     0.801389\n",
      "5     0.740705\n",
      "6     0.610655\n",
      "7     0.652461\n",
      "8     0.707425\n",
      "9     0.766261\n",
      "10    0.816691\n",
      "11    0.753069\n",
      "12    0.686585\n",
      "13    0.667413\n",
      "14    0.693827\n",
      "15    0.759692\n",
      "16    0.849318\n",
      "17    0.804083\n",
      "18    0.723593\n",
      "19    0.741746\n",
      "20    0.792643\n",
      "21    0.866068\n",
      "22    0.810401\n",
      "23    0.813199\n",
      "24    0.804643\n",
      "25    0.867347\n",
      "26    0.894884\n",
      "27    0.871440\n",
      "28    0.974451\n",
      "29    0.950711\n",
      "30    0.901484\n",
      "31    1.039054\n",
      "32    1.108863\n",
      "33    1.164397\n",
      "34    1.175400\n",
      "35    1.037032\n",
      "36    0.942890\n",
      "37    0.962831\n",
      "38    1.014973\n",
      "39    1.021708\n",
      "40    0.994298\n",
      "41    1.021543\n",
      "42    1.203423\n",
      "dtype: float64\n"
     ]
    }
   ],
   "source": [
    "print(balance)"
   ]
  },
  {
   "cell_type": "code",
   "execution_count": 104,
   "id": "c3ef6717",
   "metadata": {},
   "outputs": [
    {
     "data": {
      "text/plain": [
       "<matplotlib.collections.PathCollection at 0x7f815cdb1750>"
      ]
     },
     "execution_count": 104,
     "metadata": {},
     "output_type": "execute_result"
    },
    {
     "data": {
      "image/png": "[encoded data removed]",
      "text/plain": [
       "<Figure size 640x480 with 1 Axes>"
      ]
     },
     "metadata": {},
     "output_type": "display_data"
    }
   ],
   "source": [
    "plt.scatter(NEER,balance)"
   ]
  },
  {
   "cell_type": "code",
   "execution_count": 105,
   "id": "224a27e0",
   "metadata": {},
   "outputs": [
    {
     "data": {
      "text/plain": [
       "<matplotlib.collections.PathCollection at 0x7f815cdfee00>"
      ]
     },
     "execution_count": 105,
     "metadata": {},
     "output_type": "execute_result"
    },
    {
     "data": {
      "image/png": "[encoded data removed]",
      "text/plain": [
       "<Figure size 640x480 with 1 Axes>"
      ]
     },
     "metadata": {},
     "output_type": "display_data"
    }
   ],
   "source": [
    "plt.scatter(REER,balance)"
   ]
  },
  {
   "cell_type": "code",
   "execution_count": 106,
   "id": "96ca9d51",
   "metadata": {},
   "outputs": [
    {
     "data": {
      "text/plain": [
       "<matplotlib.collections.PathCollection at 0x7f815ce8d840>"
      ]
     },
     "execution_count": 106,
     "metadata": {},
     "output_type": "execute_result"
    },
    {
     "data": {
      "image/png": "[encoded data removed]",
      "text/plain": [
       "<Figure size 640x480 with 1 Axes>"
      ]
     },
     "metadata": {},
     "output_type": "display_data"
    }
   ],
   "source": [
    "plt.scatter(balance,REER)"
   ]
  },
  {
   "cell_type": "code",
   "execution_count": 107,
   "id": "781c8c88",
   "metadata": {},
   "outputs": [],
   "source": [
    "##seabornのインストール\n",
    "import seaborn as sns"
   ]
  },
  {
   "cell_type": "code",
   "execution_count": 108,
   "id": "51937358",
   "metadata": {},
   "outputs": [
    {
     "name": "stdout",
     "output_type": "stream",
     "text": [
      "                year      NEER      REER    Export    Import       GDP  \\\n",
      "year        1.000000  0.801284 -0.359833  0.925800  0.899295  0.791651   \n",
      "NEER        0.801284  1.000000  0.226336  0.634056  0.547217  0.885611   \n",
      "REER       -0.359833  0.226336  1.000000 -0.512636 -0.625294  0.159712   \n",
      "Export      0.925800  0.634056 -0.512636  1.000000  0.961300  0.692903   \n",
      "Import      0.899295  0.547217 -0.625294  0.961300  1.000000  0.564966   \n",
      "GDP         0.791651  0.885611  0.159712  0.692903  0.564966  1.000000   \n",
      "Unnamed: 6       NaN       NaN       NaN       NaN       NaN       NaN   \n",
      "Unnamed: 7       NaN       NaN       NaN       NaN       NaN       NaN   \n",
      "\n",
      "            Unnamed: 6  Unnamed: 7  \n",
      "year               NaN         NaN  \n",
      "NEER               NaN         NaN  \n",
      "REER               NaN         NaN  \n",
      "Export             NaN         NaN  \n",
      "Import             NaN         NaN  \n",
      "GDP                NaN         NaN  \n",
      "Unnamed: 6         NaN         NaN  \n",
      "Unnamed: 7         NaN         NaN  \n"
     ]
    }
   ],
   "source": [
    "df_corr=df_corr=x.corr()\n",
    "print(df_corr)"
   ]
  },
  {
   "cell_type": "code",
   "execution_count": 109,
   "id": "6d1494e4",
   "metadata": {},
   "outputs": [
    {
     "name": "stdout",
     "output_type": "stream",
     "text": [
      "0     1.089176\n",
      "1     0.939946\n",
      "2     0.948591\n",
      "3     0.859639\n",
      "4     0.801389\n",
      "5     0.740705\n",
      "6     0.610655\n",
      "7     0.652461\n",
      "8     0.707425\n",
      "9     0.766261\n",
      "10    0.816691\n",
      "11    0.753069\n",
      "12    0.686585\n",
      "13    0.667413\n",
      "14    0.693827\n",
      "15    0.759692\n",
      "16    0.849318\n",
      "17    0.804083\n",
      "18    0.723593\n",
      "19    0.741746\n",
      "20    0.792643\n",
      "21    0.866068\n",
      "22    0.810401\n",
      "23    0.813199\n",
      "24    0.804643\n",
      "25    0.867347\n",
      "26    0.894884\n",
      "27    0.871440\n",
      "28    0.974451\n",
      "29    0.950711\n",
      "30    0.901484\n",
      "31    1.039054\n",
      "32    1.108863\n",
      "33    1.164397\n",
      "34    1.175400\n",
      "35    1.037032\n",
      "36    0.942890\n",
      "37    0.962831\n",
      "38    1.014973\n",
      "39    1.021708\n",
      "40    0.994298\n",
      "41    1.021543\n",
      "42    1.203423\n",
      "dtype: float64\n"
     ]
    }
   ],
   "source": [
    "##このままだとbalanceがデータフレームxに入ってないので追加する\n",
    "x['balance']=im/ex\n",
    "print(balance)"
   ]
  },
  {
   "cell_type": "code",
   "execution_count": 110,
   "id": "b83fef85",
   "metadata": {},
   "outputs": [
    {
     "name": "stdout",
     "output_type": "stream",
     "text": [
      "                year      NEER      REER    Export    Import       GDP  \\\n",
      "year        1.000000  0.801284 -0.359833  0.925800  0.899295  0.791651   \n",
      "NEER        0.801284  1.000000  0.226336  0.634056  0.547217  0.885611   \n",
      "REER       -0.359833  0.226336  1.000000 -0.512636 -0.625294  0.159712   \n",
      "Export      0.925800  0.634056 -0.512636  1.000000  0.961300  0.692903   \n",
      "Import      0.899295  0.547217 -0.625294  0.961300  1.000000  0.564966   \n",
      "GDP         0.791651  0.885611  0.159712  0.692903  0.564966  1.000000   \n",
      "Unnamed: 6       NaN       NaN       NaN       NaN       NaN       NaN   \n",
      "Unnamed: 7       NaN       NaN       NaN       NaN       NaN       NaN   \n",
      "balance     0.633318  0.278188 -0.729497  0.657430  0.823180  0.172827   \n",
      "\n",
      "            Unnamed: 6  Unnamed: 7   balance  \n",
      "year               NaN         NaN  0.633318  \n",
      "NEER               NaN         NaN  0.278188  \n",
      "REER               NaN         NaN -0.729497  \n",
      "Export             NaN         NaN  0.657430  \n",
      "Import             NaN         NaN  0.823180  \n",
      "GDP                NaN         NaN  0.172827  \n",
      "Unnamed: 6         NaN         NaN       NaN  \n",
      "Unnamed: 7         NaN         NaN       NaN  \n",
      "balance            NaN         NaN  1.000000  \n"
     ]
    }
   ],
   "source": [
    "\n",
    "##REERとbalanceの相関係数は-0.72 結構高い値が出る\n",
    "df_corr=df_corr=x.corr()\n",
    "print(df_corr)"
   ]
  },
  {
   "cell_type": "code",
   "execution_count": 111,
   "id": "cc9fb347",
   "metadata": {},
   "outputs": [
    {
     "data": {
      "text/plain": [
       "(array([1., 0., 3., 4., 5., 4., 0., 2., 0., 1., 5., 3., 6., 2., 1., 2., 0.,\n",
       "        2., 0., 2.]),\n",
       " array([ 60.98  ,  64.7005,  68.421 ,  72.1415,  75.862 ,  79.5825,\n",
       "         83.303 ,  87.0235,  90.744 ,  94.4645,  98.185 , 101.9055,\n",
       "        105.626 , 109.3465, 113.067 , 116.7875, 120.508 , 124.2285,\n",
       "        127.949 , 131.6695, 135.39  ]),\n",
       " <BarContainer object of 20 artists>)"
      ]
     },
     "execution_count": 111,
     "metadata": {},
     "output_type": "execute_result"
    },
    {
     "data": {
      "image/png": "[encoded data removed]",
      "text/plain": [
       "<Figure size 640x480 with 1 Axes>"
      ]
     },
     "metadata": {},
     "output_type": "display_data"
    }
   ],
   "source": [
    "##仮説検定\n",
    "plt.hist(REER,bins=20)"
   ]
  },
  {
   "cell_type": "code",
   "execution_count": 112,
   "id": "1c92f9eb",
   "metadata": {
    "scrolled": true
   },
   "outputs": [
    {
     "data": {
      "text/plain": [
       "(array([1., 2., 2., 2., 3., 2., 7., 0., 5., 2., 0., 5., 2., 3., 2., 0., 2.,\n",
       "        0., 1., 2.]),\n",
       " array([0.61065458, 0.64029298, 0.66993138, 0.69956979, 0.72920819,\n",
       "        0.75884659, 0.78848499, 0.8181234 , 0.8477618 , 0.8774002 ,\n",
       "        0.90703861, 0.93667701, 0.96631541, 0.99595381, 1.02559222,\n",
       "        1.05523062, 1.08486902, 1.11450743, 1.14414583, 1.17378423,\n",
       "        1.20342263]),\n",
       " <BarContainer object of 20 artists>)"
      ]
     },
     "execution_count": 112,
     "metadata": {},
     "output_type": "execute_result"
    },
    {
     "data": {
      "image/png": "[encoded data removed]",
      "text/plain": [
       "<Figure size 640x480 with 1 Axes>"
      ]
     },
     "metadata": {},
     "output_type": "display_data"
    }
   ],
   "source": [
    "plt.hist(balance,bins=20)"
   ]
  },
  {
   "cell_type": "code",
   "execution_count": 113,
   "id": "df222e0b",
   "metadata": {},
   "outputs": [],
   "source": [
    "##以上よりt検定使用不可\n",
    "##カイ2乗検定に移行(パラメトリック検定が使用不可能なため)\n",
    "##参照記事:https://qiita.com/ynakayama/items/67ddb321a8ce5b07274c\n",
    "crossbalance=pd.crosstab(REER,balance)\n"
   ]
  },
  {
   "cell_type": "code",
   "execution_count": 114,
   "id": "1d3fcc07",
   "metadata": {},
   "outputs": [
    {
     "name": "stdout",
     "output_type": "stream",
     "text": [
      "カイ二乗値は 1806.0\n",
      "確率は 0.23799292638735034\n",
      "自由度は 1764\n",
      "[[0.02325581 0.02325581 0.02325581 ... 0.02325581 0.02325581 0.02325581]\n",
      " [0.02325581 0.02325581 0.02325581 ... 0.02325581 0.02325581 0.02325581]\n",
      " [0.02325581 0.02325581 0.02325581 ... 0.02325581 0.02325581 0.02325581]\n",
      " ...\n",
      " [0.02325581 0.02325581 0.02325581 ... 0.02325581 0.02325581 0.02325581]\n",
      " [0.02325581 0.02325581 0.02325581 ... 0.02325581 0.02325581 0.02325581]\n",
      " [0.02325581 0.02325581 0.02325581 ... 0.02325581 0.02325581 0.02325581]]\n",
      "有意な差がありません\n"
     ]
    }
   ],
   "source": [
    "import scipy as sp\n",
    "import scipy.stats\n",
    "\n",
    "\n",
    "x2, p, dof, expected = sp.stats.chi2_contingency(crossbalance)\n",
    "print(\"カイ二乗値は %(x2)s\" %locals() )\n",
    "print(\"確率は %(p)s\" %locals() )\n",
    "print(\"自由度は %(dof)s\" %locals() )\n",
    "print( expected )\n",
    "\n",
    "if p < 0.05:\n",
    "    print(\"有意な差があります\")\n",
    "else:\n",
    "    print(\"有意な差がありません\")\n"
   ]
  },
  {
   "cell_type": "code",
   "execution_count": 115,
   "id": "9686b6b4",
   "metadata": {},
   "outputs": [],
   "source": [
    "##物価変動と経常収支\n",
    "\n",
    "pdef=REER/NEER"
   ]
  },
  {
   "cell_type": "code",
   "execution_count": 116,
   "id": "75cbdd8e",
   "metadata": {},
   "outputs": [
    {
     "name": "stdout",
     "output_type": "stream",
     "text": [
      "0     3.327625\n",
      "1     3.129659\n",
      "2     2.964789\n",
      "3     2.842993\n",
      "4     2.739587\n",
      "5     2.639083\n",
      "6     2.555903\n",
      "7     2.435719\n",
      "8     2.289931\n",
      "9     2.137105\n",
      "10    1.977254\n",
      "11    1.896552\n",
      "12    1.801414\n",
      "13    1.691871\n",
      "14    1.572913\n",
      "15    1.498174\n",
      "16    1.442710\n",
      "17    1.427352\n",
      "18    1.394812\n",
      "19    1.365568\n",
      "20    1.325763\n",
      "21    1.284565\n",
      "22    1.253309\n",
      "23    1.226100\n",
      "24    1.193675\n",
      "25    1.158262\n",
      "26    1.130997\n",
      "27    1.095352\n",
      "28    1.056887\n",
      "29    1.035365\n",
      "30    1.000000\n",
      "31    0.956674\n",
      "32    0.931288\n",
      "33    0.912884\n",
      "34    0.919729\n",
      "35    0.916436\n",
      "36    0.900913\n",
      "37    0.888508\n",
      "38    0.878198\n",
      "39    0.864981\n",
      "40    0.852370\n",
      "41    0.829305\n",
      "42    0.806720\n",
      "dtype: float64\n"
     ]
    }
   ],
   "source": [
    "x['pdef']=REER/NEER\n",
    "print(pdef)"
   ]
  },
  {
   "cell_type": "code",
   "execution_count": 117,
   "id": "cf7020a0",
   "metadata": {},
   "outputs": [
    {
     "name": "stdout",
     "output_type": "stream",
     "text": [
      "                year      NEER      REER    Export    Import       GDP  \\\n",
      "year        1.000000  0.801284 -0.359833  0.925800  0.899295  0.791651   \n",
      "NEER        0.801284  1.000000  0.226336  0.634056  0.547217  0.885611   \n",
      "REER       -0.359833  0.226336  1.000000 -0.512636 -0.625294  0.159712   \n",
      "Export      0.925800  0.634056 -0.512636  1.000000  0.961300  0.692903   \n",
      "Import      0.899295  0.547217 -0.625294  0.961300  1.000000  0.564966   \n",
      "GDP         0.791651  0.885611  0.159712  0.692903  0.564966  1.000000   \n",
      "Unnamed: 6       NaN       NaN       NaN       NaN       NaN       NaN   \n",
      "Unnamed: 7       NaN       NaN       NaN       NaN       NaN       NaN   \n",
      "balance     0.633318  0.278188 -0.729497  0.657430  0.823180  0.172827   \n",
      "pdef       -0.929212 -0.932145  0.041474 -0.827396 -0.744267 -0.943501   \n",
      "\n",
      "            Unnamed: 6  Unnamed: 7   balance      pdef  \n",
      "year               NaN         NaN  0.633318 -0.929212  \n",
      "NEER               NaN         NaN  0.278188 -0.932145  \n",
      "REER               NaN         NaN -0.729497  0.041474  \n",
      "Export             NaN         NaN  0.657430 -0.827396  \n",
      "Import             NaN         NaN  0.823180 -0.744267  \n",
      "GDP                NaN         NaN  0.172827 -0.943501  \n",
      "Unnamed: 6         NaN         NaN       NaN       NaN  \n",
      "Unnamed: 7         NaN         NaN       NaN       NaN  \n",
      "balance            NaN         NaN  1.000000 -0.408950  \n",
      "pdef               NaN         NaN -0.408950  1.000000  \n"
     ]
    }
   ],
   "source": [
    "df_corr=df_corr=x.corr()\n",
    "print(df_corr)"
   ]
  },
  {
   "cell_type": "code",
   "execution_count": 118,
   "id": "9185996c",
   "metadata": {},
   "outputs": [
    {
     "name": "stdout",
     "output_type": "stream",
     "text": [
      "-0.7771066143159168 8.935890208228576e-10\n"
     ]
    }
   ],
   "source": [
    "from scipy.stats import spearmanr\n",
    "\n",
    "correlation, pvalue= spearmanr (REER, balance)\n",
    "print (correlation, pvalue)"
   ]
  },
  {
   "cell_type": "code",
   "execution_count": 119,
   "id": "998ed7c0",
   "metadata": {},
   "outputs": [],
   "source": [
    "import math\n",
    "\n"
   ]
  },
  {
   "cell_type": "code",
   "execution_count": 124,
   "id": "4e4b4285",
   "metadata": {},
   "outputs": [
    {
     "ename": "TypeError",
     "evalue": "cannot convert the series to <class 'float'>",
     "output_type": "error",
     "traceback": [
      "\u001b[0;31m---------------------------------------------------------------------------\u001b[0m",
      "\u001b[0;31mTypeError\u001b[0m                                 Traceback (most recent call last)",
      "Cell \u001b[0;32mIn[124], line 1\u001b[0m\n\u001b[0;32m----> 1\u001b[0m lnREER\u001b[39m=\u001b[39mmath\u001b[39m.\u001b[39;49mlog(REER)\n",
      "File \u001b[0;32m~/anaconda3/lib/python3.10/site-packages/pandas/core/series.py:206\u001b[0m, in \u001b[0;36m_coerce_method.<locals>.wrapper\u001b[0;34m(self)\u001b[0m\n\u001b[1;32m    204\u001b[0m \u001b[39mif\u001b[39;00m \u001b[39mlen\u001b[39m(\u001b[39mself\u001b[39m) \u001b[39m==\u001b[39m \u001b[39m1\u001b[39m:\n\u001b[1;32m    205\u001b[0m     \u001b[39mreturn\u001b[39;00m converter(\u001b[39mself\u001b[39m\u001b[39m.\u001b[39miloc[\u001b[39m0\u001b[39m])\n\u001b[0;32m--> 206\u001b[0m \u001b[39mraise\u001b[39;00m \u001b[39mTypeError\u001b[39;00m(\u001b[39mf\u001b[39m\u001b[39m\"\u001b[39m\u001b[39mcannot convert the series to \u001b[39m\u001b[39m{\u001b[39;00mconverter\u001b[39m}\u001b[39;00m\u001b[39m\"\u001b[39m)\n",
      "\u001b[0;31mTypeError\u001b[0m: cannot convert the series to <class 'float'>"
     ]
    }
   ],
   "source": [
    "# lnREER=math.log(REER)\n"
   ]
  },
  {
   "cell_type": "code",
   "execution_count": 128,
   "id": "82994760",
   "metadata": {},
   "outputs": [
    {
     "name": "stdout",
     "output_type": "stream",
     "text": [
      "0      73.84\n",
      "1      78.93\n",
      "2      71.57\n",
      "3      77.50\n",
      "4      80.90\n",
      "5      82.92\n",
      "6     106.30\n",
      "7     111.97\n",
      "8     118.71\n",
      "9     108.80\n",
      "10     97.36\n",
      "11    103.95\n",
      "12    107.04\n",
      "13    125.30\n",
      "14    133.21\n",
      "15    135.39\n",
      "16    113.70\n",
      "17    106.98\n",
      "18    107.01\n",
      "19    118.90\n",
      "20    125.51\n",
      "21    111.77\n",
      "22    104.15\n",
      "23    105.04\n",
      "24    106.07\n",
      "25     99.46\n",
      "26     90.05\n",
      "27     82.48\n",
      "28     88.62\n",
      "29     99.54\n",
      "30    100.00\n",
      "31    101.13\n",
      "32     99.89\n",
      "33     79.64\n",
      "34     74.59\n",
      "35     69.42\n",
      "36     78.92\n",
      "37     75.15\n",
      "38     74.48\n",
      "39     76.62\n",
      "40     77.31\n",
      "41     70.69\n",
      "42     60.98\n",
      "Name: REER, dtype: float64\n"
     ]
    }
   ],
   "source": [
    "print(REER)\n",
    "frameREER=pd.DataFrame(REER)"
   ]
  },
  {
   "cell_type": "code",
   "execution_count": 131,
   "id": "be9cb2f1",
   "metadata": {},
   "outputs": [
    {
     "name": "stdout",
     "output_type": "stream",
     "text": [
      "           0\n",
      "0   4.301901\n",
      "1   4.368561\n",
      "2   4.270676\n",
      "3   4.350278\n",
      "4   4.393214\n",
      "5   4.417876\n",
      "6   4.666265\n",
      "7   4.718231\n",
      "8   4.776684\n",
      "9   4.689511\n",
      "10  4.578415\n",
      "11  4.643910\n",
      "12  4.673203\n",
      "13  4.830711\n",
      "14  4.891927\n",
      "15  4.908160\n",
      "16  4.733563\n",
      "17  4.672642\n",
      "18  4.672922\n",
      "19  4.778283\n",
      "20  4.832385\n",
      "21  4.716443\n",
      "22  4.645832\n",
      "23  4.654341\n",
      "24  4.664099\n",
      "25  4.599756\n",
      "26  4.500365\n",
      "27  4.412556\n",
      "28  4.484358\n",
      "29  4.600560\n",
      "30  4.605170\n",
      "31  4.616407\n",
      "32  4.604070\n",
      "33  4.377516\n",
      "34  4.312006\n",
      "35  4.240175\n",
      "36  4.368435\n",
      "37  4.319486\n",
      "38  4.310531\n",
      "39  4.338858\n",
      "40  4.347823\n",
      "41  4.258304\n",
      "42  4.110546\n"
     ]
    }
   ],
   "source": [
    "lnREER=REER.apply(lambda x: pd.Series(np.log(x)))\n",
    "print(lnREER)"
   ]
  },
  {
   "cell_type": "code",
   "execution_count": 133,
   "id": "73e9294a",
   "metadata": {},
   "outputs": [
    {
     "data": {
      "text/plain": [
       "(array([ 1.,  2.,  7.,  7.,  2.,  1., 10.,  7.,  2.,  4.]),\n",
       " array([4.11054594, 4.1903073 , 4.27006865, 4.34983001, 4.42959137,\n",
       "        4.50935272, 4.58911408, 4.66887543, 4.74863679, 4.82839815,\n",
       "        4.9081595 ]),\n",
       " <BarContainer object of 10 artists>)"
      ]
     },
     "execution_count": 133,
     "metadata": {},
     "output_type": "execute_result"
    },
    {
     "data": {
      "image/png": "[encoded data removed]",
      "text/plain": [
       "<Figure size 640x480 with 1 Axes>"
      ]
     },
     "metadata": {},
     "output_type": "display_data"
    }
   ],
   "source": [
    "plt.scatter(lnREER,balance)\n",
    "plt.hist(lnREER,bins=10)"
   ]
  }
 ],
 "metadata": {
  "kernelspec": {
   "display_name": "Python 3 (ipykernel)",
   "language": "python",
   "name": "python3"
  },
  "language_info": {
   "codemirror_mode": {
    "name": "ipython",
    "version": 3
   },
   "file_extension": ".py",
   "mimetype": "text/x-python",
   "name": "python",
   "nbconvert_exporter": "python",
   "pygments_lexer": "ipython3",
   "version": "3.10.9"
  }
 },
 "nbformat": 4,
 "nbformat_minor": 5
}
