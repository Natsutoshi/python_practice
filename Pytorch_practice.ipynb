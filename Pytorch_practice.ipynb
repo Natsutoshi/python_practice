{
  "nbformat": 4,
  "nbformat_minor": 0,
  "metadata": {
    "colab": {
      "provenance": [],
      "authorship_tag": "ABX9TyN2LgjWyaCIiQ17DyhW/nUL",
      "include_colab_link": true
    },
    "kernelspec": {
      "name": "python3",
      "display_name": "Python 3"
    },
    "language_info": {
      "name": "python"
    }
  },
  "cells": [
    {
      "cell_type": "markdown",
      "metadata": {
        "id": "view-in-github",
        "colab_type": "text"
      },
      "source": [
        "<a href=\"https://colab.research.google.com/github/Natsutoshi/python_practice/blob/main/Pytorch_practice.ipynb\" target=\"_parent\"><img src=\"https://colab.research.google.com/assets/colab-badge.svg\" alt=\"Open In Colab\"/></a>"
      ]
    },
    {
      "cell_type": "code",
      "execution_count": null,
      "metadata": {
        "colab": {
          "base_uri": "https://localhost:8080/"
        },
        "id": "70641ZsoKrQm",
        "outputId": "2024f0df-f2b4-43b7-f822-57bb49c61b02"
      },
      "outputs": [
        {
          "output_type": "stream",
          "name": "stdout",
          "text": [
            "Requirement already satisfied: torch in /usr/local/lib/python3.10/dist-packages (2.4.0+cu121)\n",
            "Requirement already satisfied: torchvision in /usr/local/lib/python3.10/dist-packages (0.19.0+cu121)\n",
            "Requirement already satisfied: filelock in /usr/local/lib/python3.10/dist-packages (from torch) (3.15.4)\n",
            "Requirement already satisfied: typing-extensions>=4.8.0 in /usr/local/lib/python3.10/dist-packages (from torch) (4.12.2)\n",
            "Requirement already satisfied: sympy in /usr/local/lib/python3.10/dist-packages (from torch) (1.13.2)\n",
            "Requirement already satisfied: networkx in /usr/local/lib/python3.10/dist-packages (from torch) (3.3)\n",
            "Requirement already satisfied: jinja2 in /usr/local/lib/python3.10/dist-packages (from torch) (3.1.4)\n",
            "Requirement already satisfied: fsspec in /usr/local/lib/python3.10/dist-packages (from torch) (2024.6.1)\n",
            "Requirement already satisfied: numpy in /usr/local/lib/python3.10/dist-packages (from torchvision) (1.26.4)\n",
            "Requirement already satisfied: pillow!=8.3.*,>=5.3.0 in /usr/local/lib/python3.10/dist-packages (from torchvision) (9.4.0)\n",
            "Requirement already satisfied: MarkupSafe>=2.0 in /usr/local/lib/python3.10/dist-packages (from jinja2->torch) (2.1.5)\n",
            "Requirement already satisfied: mpmath<1.4,>=1.1.0 in /usr/local/lib/python3.10/dist-packages (from sympy->torch) (1.3.0)\n"
          ]
        }
      ],
      "source": [
        "pip install torch torchvision"
      ]
    },
    {
      "cell_type": "code",
      "source": [
        "import torch\n",
        "import numpy as np\n",
        "np.set_printoptions(precision=3)\n",
        "a = [1,2,3]\n",
        "b=np.array([4,5,6], dtype=np.int32)\n",
        "t_a=torch.tensor(a)\n",
        "t_b=torch.from_numpy(b)\n",
        "print(t_a)\n",
        "print(t_b)"
      ],
      "metadata": {
        "colab": {
          "base_uri": "https://localhost:8080/"
        },
        "id": "fmfTEh1WK30X",
        "outputId": "f440ed9f-372b-4cc4-c824-b3534706d1da"
      },
      "execution_count": null,
      "outputs": [
        {
          "output_type": "stream",
          "name": "stdout",
          "text": [
            "tensor([1, 2, 3])\n",
            "tensor([4, 5, 6], dtype=torch.int32)\n"
          ]
        }
      ]
    },
    {
      "cell_type": "code",
      "source": [
        "t = torch.rand(3,5)\n",
        "print(t)\n",
        "t_tr=torch.transpose(t,0,1)\n",
        "print(t_tr)"
      ],
      "metadata": {
        "colab": {
          "base_uri": "https://localhost:8080/"
        },
        "id": "PaNy2BtfLjGC",
        "outputId": "8bac98c5-3eb2-4493-df9b-41a6b8365899"
      },
      "execution_count": null,
      "outputs": [
        {
          "output_type": "stream",
          "name": "stdout",
          "text": [
            "tensor([[0.8401, 0.4996, 0.7345, 0.3410, 0.2745],\n",
            "        [0.9332, 0.9754, 0.7061, 0.3434, 0.2375],\n",
            "        [0.7999, 0.3739, 0.7624, 0.8814, 0.5511]])\n",
            "tensor([[0.8401, 0.9332, 0.7999],\n",
            "        [0.4996, 0.9754, 0.3739],\n",
            "        [0.7345, 0.7061, 0.7624],\n",
            "        [0.3410, 0.3434, 0.8814],\n",
            "        [0.2745, 0.2375, 0.5511]])\n"
          ]
        }
      ]
    },
    {
      "cell_type": "code",
      "source": [
        "t_2=torch.rand(3,5,7)\n",
        "print(t_2)"
      ],
      "metadata": {
        "colab": {
          "base_uri": "https://localhost:8080/"
        },
        "id": "2HfFDchmrtNR",
        "outputId": "e3399ff4-c86c-4e8d-f0a3-3a93d73ba5d1"
      },
      "execution_count": null,
      "outputs": [
        {
          "output_type": "stream",
          "name": "stdout",
          "text": [
            "tensor([[[0.0042, 0.8021, 0.4959, 0.4745, 0.7128, 0.1334, 0.7427],\n",
            "         [0.7938, 0.3083, 0.8594, 0.0213, 0.2731, 0.6461, 0.0260],\n",
            "         [0.1676, 0.4456, 0.2569, 0.4759, 0.9710, 0.2809, 0.5204],\n",
            "         [0.4852, 0.0581, 0.8934, 0.7705, 0.9241, 0.3747, 0.6273],\n",
            "         [0.3394, 0.5242, 0.8256, 0.4559, 0.3400, 0.1845, 0.0883]],\n",
            "\n",
            "        [[0.9696, 0.4712, 0.8072, 0.0845, 0.5279, 0.8218, 0.5936],\n",
            "         [0.2572, 0.5715, 0.1489, 0.6485, 0.4591, 0.4083, 0.4425],\n",
            "         [0.5771, 0.6883, 0.9649, 0.1834, 0.2965, 0.3577, 0.2165],\n",
            "         [0.8367, 0.1273, 0.5824, 0.8763, 0.3325, 0.0083, 0.1351],\n",
            "         [0.2936, 0.3422, 0.4686, 0.3690, 0.7327, 0.4868, 0.0901]],\n",
            "\n",
            "        [[0.9325, 0.8151, 0.4739, 0.4792, 0.3119, 0.6645, 0.2507],\n",
            "         [0.6670, 0.6967, 0.9715, 0.6448, 0.4836, 0.6050, 0.0389],\n",
            "         [0.7736, 0.3299, 0.2441, 0.7772, 0.8659, 0.4060, 0.7551],\n",
            "         [0.0264, 0.0737, 0.6870, 0.7531, 0.2853, 0.4237, 0.3338],\n",
            "         [0.3562, 0.6041, 0.7099, 0.6706, 0.5333, 0.8422, 0.1872]]])\n"
          ]
        }
      ]
    },
    {
      "cell_type": "code",
      "source": [
        "t_2np=t_2.clone().numpy()\n",
        "print(t_2np)"
      ],
      "metadata": {
        "colab": {
          "base_uri": "https://localhost:8080/"
        },
        "id": "CPV7WMY4twtZ",
        "outputId": "36d35297-f3c6-46da-b3d9-4ad168f5e623"
      },
      "execution_count": null,
      "outputs": [
        {
          "output_type": "stream",
          "name": "stdout",
          "text": [
            "[[[0.004 0.802 0.496 0.474 0.713 0.133 0.743]\n",
            "  [0.794 0.308 0.859 0.021 0.273 0.646 0.026]\n",
            "  [0.168 0.446 0.257 0.476 0.971 0.281 0.52 ]\n",
            "  [0.485 0.058 0.893 0.771 0.924 0.375 0.627]\n",
            "  [0.339 0.524 0.826 0.456 0.34  0.184 0.088]]\n",
            "\n",
            " [[0.97  0.471 0.807 0.084 0.528 0.822 0.594]\n",
            "  [0.257 0.571 0.149 0.649 0.459 0.408 0.442]\n",
            "  [0.577 0.688 0.965 0.183 0.296 0.358 0.217]\n",
            "  [0.837 0.127 0.582 0.876 0.333 0.008 0.135]\n",
            "  [0.294 0.342 0.469 0.369 0.733 0.487 0.09 ]]\n",
            "\n",
            " [[0.933 0.815 0.474 0.479 0.312 0.664 0.251]\n",
            "  [0.667 0.697 0.972 0.645 0.484 0.605 0.039]\n",
            "  [0.774 0.33  0.244 0.777 0.866 0.406 0.755]\n",
            "  [0.026 0.074 0.687 0.753 0.285 0.424 0.334]\n",
            "  [0.356 0.604 0.71  0.671 0.533 0.842 0.187]]]\n"
          ]
        }
      ]
    }
  ]
}